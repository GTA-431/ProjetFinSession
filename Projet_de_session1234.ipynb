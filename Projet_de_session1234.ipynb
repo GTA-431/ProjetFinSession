{
 "cells": [
  {
   "cell_type": "code",
   "execution_count": 3,
   "id": "67a0a829",
   "metadata": {},
   "outputs": [],
   "source": [
    "import pandas\n",
    "import numpy as np\n",
    "import matplotlib as plt"
   ]
  },
  {
   "cell_type": "code",
   "execution_count": 4,
   "id": "96519fac",
   "metadata": {},
   "outputs": [],
   "source": [
    "#Lecture du fichier\n",
    "dataframe_collisions = pandas.read_csv(\"collisions_routieres.csv\")"
   ]
  },
  {
   "cell_type": "code",
   "execution_count": 5,
   "id": "0523d248",
   "metadata": {
    "scrolled": true
   },
   "outputs": [],
   "source": [
    "#Compte du nombre d'accidents implicants un blessé grave\n",
    "blesses = dataframe_collisions.groupby([\"NB_BLESSES_GRAVES\"])[\"NB_BLESSES_GRAVES\"].count()"
   ]
  },
  {
   "cell_type": "code",
   "execution_count": 6,
   "id": "5e4fc5f0",
   "metadata": {
    "scrolled": true
   },
   "outputs": [],
   "source": [
    "#Calcul du nombre d'accidents par année\n",
    "nmbr_accidents = dataframe_collisions.groupby(\"AN\")[\"NO_SEQ_COLL\"].count()"
   ]
  },
  {
   "cell_type": "code",
   "execution_count": 7,
   "id": "0f865212",
   "metadata": {
    "scrolled": true
   },
   "outputs": [],
   "source": [
    "#Calcul du nombre d'accident n'implicant pas de blessés\n",
    "total_blesses = nmbr_accidents.sum() - blesses\n",
    "pas_de_blesses = total_blesses\n",
    "total_blesses_graves = pas_de_blesses[0]"
   ]
  },
  {
   "cell_type": "code",
   "execution_count": 8,
   "id": "713d4312",
   "metadata": {},
   "outputs": [
    {
     "name": "stdout",
     "output_type": "stream",
     "text": [
      "Sur 204010 accidents, il y a eu 1697 accidents avec des blessés graves.\n"
     ]
    }
   ],
   "source": [
    "#Impression du nombre d'accidents et d'accidents implicants au moins un blessé grave\n",
    "print(\"Sur\", nmbr_accidents.sum(), \"accidents, il y a eu\", total_blesses_graves, \"accidents avec des blessés graves.\")"
   ]
  },
  {
   "cell_type": "code",
   "execution_count": 9,
   "id": "3ed8428e",
   "metadata": {},
   "outputs": [],
   "source": [
    "#Calcul pourcentage de blessés graves \n",
    "moyenne_blesses = (((blesses[0] * 0) + (blesses[1] * 1) + (blesses[2] * 2) + (blesses[3] * 3) + (blesses[4] * 4)) / nmbr_accidents.sum())"
   ]
  },
  {
   "cell_type": "code",
   "execution_count": 10,
   "id": "41b6a8d5",
   "metadata": {},
   "outputs": [
    {
     "name": "stdout",
     "output_type": "stream",
     "text": [
      "En moyenne, il y a 0.8921131317092299 % de chance qu'un accident contienne un blessé grave à Montréal entre 2012 et 2020\n"
     ]
    }
   ],
   "source": [
    "#Impression du pourcentage de chance qu'un accident implique un blessé grave\n",
    "print(\"En moyenne, il y a\", moyenne_blesses *100, \"% de chance qu'un accident contienne un blessé grave à Montréal entre 2012 et 2020\")"
   ]
  },
  {
   "cell_type": "code",
   "execution_count": 11,
   "id": "953d1e2a",
   "metadata": {},
   "outputs": [],
   "source": [
    "#Calcul nombre de morts par an\n",
    "nmbr_morts = dataframe_collisions.groupby([\"AN\"])[\"NB_MORTS\"].sum()"
   ]
  },
  {
   "cell_type": "code",
   "execution_count": 12,
   "id": "5f25e8c0",
   "metadata": {
    "scrolled": true
   },
   "outputs": [
    {
     "name": "stdout",
     "output_type": "stream",
     "text": [
      "Pourcentage d'accidents mortels en fonction des années\n",
      "AxesSubplot(0.125,0.125;0.775x0.755)\n",
      "Il y avait  0.1261568612319675 % de chance de mourir dans un accident de la route à Montréal entre 2012 et 2020\n"
     ]
    },
    {
     "data": {
      "image/png": "[encoded data removed]",
      "text/plain": [
       "<Figure size 432x288 with 1 Axes>"
      ]
     },
     "metadata": {
      "needs_background": "light"
     },
     "output_type": "display_data"
    }
   ],
   "source": [
    "#Impression du pourcentage d'accidents mortels en fonction des années\n",
    "print(\"Pourcentage d'accidents mortels en fonction des années\")\n",
    "print(((nmbr_morts / nmbr_accidents) *100).plot())\n",
    "print(\"Il y avait \",((nmbr_morts / nmbr_accidents) *100).mean(),\"% de chance de mourir dans un accident de la route à Montréal entre 2012 et 2020\")"
   ]
  },
  {
   "cell_type": "code",
   "execution_count": 11,
   "id": "8bf95c77",
   "metadata": {},
   "outputs": [
    {
     "name": "stdout",
     "output_type": "stream",
     "text": [
      "Statistiques d'accidents en fonction de la limite de vitesse\n",
      "              Nombre de morts Blessés graves Nombre d'accidents\n",
      "                          sum            sum              count\n",
      "VITESSE_AUTOR                                                  \n",
      "10.0                        2              6               1438\n",
      "20.0                        0              2                414\n",
      "30.0                       13             72               8134\n",
      "40.0                       31            232              28872\n",
      "50.0                      133           1030              82765\n",
      "60.0                        3             22               1380\n",
      "70.0                        0              5                486\n",
      "80.0                        0              0                 48\n",
      "90.0                        1              1                 76\n",
      "100.0                       0              0                 35\n"
     ]
    }
   ],
   "source": [
    "#Calcul et impression des statistiques d'accidents en fonction de la limite de vitesse\n",
    "tableau_vitesse = dataframe_collisions.groupby(\"VITESSE_AUTOR\").agg({\"NB_MORTS\" : ['sum'], \"NB_BLESSES_GRAVES\" : ['sum'], \"NO_SEQ_COLL\" : ['count']})\n",
    "tableau_vitesse = tableau_vitesse.rename(columns={'NB_MORTS': 'Nombre de morts', 'NB_BLESSES_GRAVES': 'Blessés graves', 'NO_SEQ_COLL': \"Nombre d'accidents\"})\n",
    "print(\"Statistiques d'accidents en fonction de la limite de vitesse\")\n",
    "print(tableau_vitesse)"
   ]
  },
  {
   "cell_type": "code",
   "execution_count": 12,
   "id": "2d07744a",
   "metadata": {},
   "outputs": [
    {
     "name": "stdout",
     "output_type": "stream",
     "text": [
      "Corrélation entre la vitesse autorisée lors de l'accident et le nombre de blessés grave\n",
      "                   VITESSE_AUTOR  NB_BLESSES_GRAVES\n",
      "VITESSE_AUTOR           1.000000           0.016132\n",
      "NB_BLESSES_GRAVES       0.016132           1.000000\n"
     ]
    }
   ],
   "source": [
    "#Calcul et impression de la corrélation entre la vitesse autorisée lors de l'accident et le nombre de blessés grave\n",
    "tableau_correlation = dataframe_collisions[[\"VITESSE_AUTOR\",\"NB_BLESSES_GRAVES\"]]\n",
    "print(\"Corrélation entre la vitesse autorisée lors de l'accident et le nombre de blessés grave\")\n",
    "print(tableau_correlation.corr(method='pearson'))"
   ]
  },
  {
   "cell_type": "code",
   "execution_count": null,
   "id": "deb9cb82",
   "metadata": {},
   "outputs": [],
   "source": []
  }
 ],
 "metadata": {
  "kernelspec": {
   "display_name": "Python 3 (ipykernel)",
   "language": "python",
   "name": "python3"
  },
  "language_info": {
   "codemirror_mode": {
    "name": "ipython",
    "version": 3
   },
   "file_extension": ".py",
   "mimetype": "text/x-python",
   "name": "python",
   "nbconvert_exporter": "python",
   "pygments_lexer": "ipython3",
   "version": "3.10.2"
  }
 },
 "nbformat": 4,
 "nbformat_minor": 5
}
